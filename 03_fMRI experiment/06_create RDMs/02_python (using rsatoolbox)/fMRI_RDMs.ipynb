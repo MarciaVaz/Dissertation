{
 "cells": [
  {
   "cell_type": "markdown",
   "metadata": {},
   "source": [
    "# Get partial RDMs for each Participant: semantic and action RDMs"
   ]
  },
  {
   "cell_type": "code",
   "execution_count": 1,
   "metadata": {},
   "outputs": [],
   "source": [
    "import rsatoolbox\n",
    "import csv \n",
    "import xlsxwriter\n",
    "import numpy as np\n",
    "import pandas as pd\n",
    "import time as tm\n",
    "import nibabel as nb\n",
    "import glob\n",
    "from os.path import isfile"
   ]
  },
  {
   "cell_type": "markdown",
   "metadata": {},
   "source": [
    "# Prepare the data for the toolbox"
   ]
  },
  {
   "cell_type": "markdown",
   "metadata": {},
   "source": [
    "4 channels -> Masks : Participants : condition (action or semantic) : beta images"
   ]
  },
  {
   "cell_type": "code",
   "execution_count": 2,
   "metadata": {},
   "outputs": [],
   "source": [
    "filepath_mask = glob.glob(r'C:\\Users\\Márcia Vaz\\Documents\\GitHub\\Dissertation\\03_fMRI experiment\\04_Masks\\*')\n",
    "participants_beta_folders = glob.glob(r'C:\\Users\\Márcia Vaz\\Documents\\GitHub\\Dissertation\\03_fMRI experiment\\02_beta images\\*')\n",
    "all_data = []\n",
    "all_RDMs_Action = []\n",
    "all_RDMs_Semantic = []\n",
    "ra=0\n",
    "rs=0\n",
    "for count0,m in enumerate(filepath_mask):\n",
    "    mask = nb.load(m)\n",
    "    mask_data = mask.get_fdata()\n",
    "    # read the participants folders one by one\n",
    "    for count1,participant in enumerate(participants_beta_folders):\n",
    "        # read all beta images for each participant\n",
    "        participant_beta_images_Action = glob.glob(participant + '\\Action\\*')\n",
    "        participant_beta_images_Semantic = glob.glob(participant + '\\Semantic\\*')\n",
    "        beta_array_created = False\n",
    "        for count,beta_image in enumerate(participant_beta_images_Action):\n",
    "            beta_img = nb.load(beta_image)\n",
    "            get_beta_data = beta_img.get_fdata()\n",
    "            roi_data = get_beta_data[mask_data==1]\n",
    "            roi_data_nonNan = roi_data[~np.isnan(roi_data)]\n",
    "            if count == 0:\n",
    "                all_data = np.zeros(shape=(len(participant_beta_images_Action),roi_data_nonNan.size))\n",
    "            all_data[count] = roi_data_nonNan\n",
    "        data_Action = rsatoolbox.data.Dataset(all_data)\n",
    "        RDM1_Action = rsatoolbox.rdm.calc_rdm(data_Action,method='euclidean')\n",
    "        all_RDMs_Action.append(RDM1_Action.dissimilarities)\n",
    "        #rsatoolbox.vis.show_rdm(RDM1_Action)\n",
    "        #print(RDM1_Action.dissimilarities)\n",
    "        \n",
    "        for count,beta_image in enumerate(participant_beta_images_Semantic):\n",
    "            beta_img = nb.load(beta_image)\n",
    "            get_beta_data = beta_img.get_fdata()\n",
    "            roi_data = get_beta_data[mask_data==1]\n",
    "            roi_data_nonNan = roi_data[~np.isnan(roi_data)]\n",
    "            \n",
    "            if count == 0:\n",
    "                all_data = np.zeros(shape=(len(participant_beta_images_Semantic),roi_data_nonNan.size))\n",
    "            all_data[count] = roi_data_nonNan\n",
    "        \n",
    "        data_Semantic = rsatoolbox.data.Dataset(all_data)\n",
    "        RDM1_Semantic = rsatoolbox.rdm.calc_rdm(data_Semantic,method='euclidean')\n",
    "        all_RDMs_Semantic.append(RDM1_Semantic.dissimilarities)\n",
    "        #rsatoolbox.vis.show_rdm(RDM1_Semantic)\n",
    "    \n",
    "#print(all_RDMs_Action)"
   ]
  },
  {
   "cell_type": "code",
   "execution_count": 3,
   "metadata": {},
   "outputs": [],
   "source": [
    "excel_data = xlsxwriter.Workbook(\"RDMs_Action_data.xlsx\")\n",
    "worksheet = excel_data.add_worksheet()\n",
    "for row, RDM in enumerate(all_RDMs_Action):\n",
    "    for column, value in enumerate(RDM[0]):\n",
    "        worksheet.write(row, column, value)\n",
    "excel_data.close()\n",
    "        "
   ]
  },
  {
   "cell_type": "code",
   "execution_count": 4,
   "metadata": {},
   "outputs": [],
   "source": [
    "excel_data = xlsxwriter.Workbook(\"RDMs_Semantic_data.xlsx\")\n",
    "worksheet = excel_data.add_worksheet()\n",
    "for row, RDM in enumerate(all_RDMs_Semantic):\n",
    "    for column, value in enumerate(RDM[0]):\n",
    "        worksheet.write(row, column, value)\n",
    "excel_data.close()\n",
    "        "
   ]
  }
 ],
 "metadata": {
  "kernelspec": {
   "display_name": "Python 3",
   "language": "python",
   "name": "python3"
  },
  "language_info": {
   "codemirror_mode": {
    "name": "ipython",
    "version": 3
   },
   "file_extension": ".py",
   "mimetype": "text/x-python",
   "name": "python",
   "nbconvert_exporter": "python",
   "pygments_lexer": "ipython3",
   "version": "3.8.5"
  }
 },
 "nbformat": 4,
 "nbformat_minor": 4
}
